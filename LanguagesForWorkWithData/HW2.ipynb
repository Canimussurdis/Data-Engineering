{
 "cells": [
  {
   "cell_type": "markdown",
   "metadata": {},
   "source": [
    "# Задача 1"
   ]
  },
  {
   "cell_type": "code",
   "execution_count": 11,
   "metadata": {},
   "outputs": [
    {
     "name": "stdout",
     "output_type": "stream",
     "text": [
      "Кол-во цифр 5 при первом объединении: 3\n",
      "Кол-во цифр 3 при втором объединении: 4\n",
      "Итоговый список: [1, 3, 1, 1, 1, 3, 1, 5, 3, 3]\n"
     ]
    }
   ],
   "source": [
    "a = [1, 5, 3]\n",
    "b = [1, 5, 1, 5]\n",
    "c = [1, 3, 1, 5, 3, 3]\n",
    "\n",
    "a = a + b\n",
    "element_5 = len([item for item in a if item == 5])\n",
    "print(\"Кол-во цифр 5 при первом объединении:\", element_5)\n",
    "while 5 in a:\n",
    "    a.remove(5)\n",
    "a = a + c\n",
    "element_3 = len([item for item in a if item == 3])\n",
    "print(\"Кол-во цифр 3 при втором объединении:\", element_3)\n",
    "print(\"Итоговый список:\", a)\n"
   ]
  },
  {
   "cell_type": "markdown",
   "metadata": {},
   "source": [
    "# Задача 2"
   ]
  },
  {
   "cell_type": "code",
   "execution_count": 21,
   "metadata": {},
   "outputs": [
    {
     "name": "stdout",
     "output_type": "stream",
     "text": [
      "Отсортированный список учеников: [162, 164, 165, 166, 168, 170, 171, 172, 174, 176, 177, 180]\n"
     ]
    }
   ],
   "source": [
    "a = []\n",
    "b = []\n",
    "for i in range(162, 178, 2):\n",
    "    a.append(i)\n",
    "for i in range(162, 182, 3):\n",
    "    b.append(i)\n",
    "c = a + b\n",
    "c_asc = sorted(c)\n",
    "print(\"Отсортированный список учеников:\", list(dict.fromkeys(c_asc)))"
   ]
  },
  {
   "cell_type": "markdown",
   "metadata": {},
   "source": [
    "# Задача 3"
   ]
  },
  {
   "cell_type": "code",
   "execution_count": 32,
   "metadata": {},
   "outputs": [
    {
     "name": "stdout",
     "output_type": "stream",
     "text": [
      "Название детали: седло\n",
      "Кол-во деталей -  3\n",
      "Общая стоимость -  4500\n"
     ]
    }
   ],
   "source": [
    "shop = [['каретка', 1200], ['шатун', 1000], ['седло', 300], ['педаль', 100], ['седло', 1500], ['рама', 12000], ['обод', 2000], ['шатун', 200], ['седло', 2700]]\n",
    "detail = str(input())\n",
    "print(\"Название детали:\", detail)\n",
    "\n",
    "cnt = 0\n",
    "sum = 0\n",
    "\n",
    "for i in shop:\n",
    "    if i[0] == detail:\n",
    "        cnt += 1\n",
    "        sum += i[1]\n",
    "\n",
    "print(\"Кол-во деталей - \", cnt)\n",
    "print(\"Общая стоимость - \", sum)"
   ]
  },
  {
   "cell_type": "markdown",
   "metadata": {},
   "source": [
    "# Задача 4"
   ]
  },
  {
   "cell_type": "code",
   "execution_count": 2,
   "metadata": {},
   "outputs": [
    {
     "name": "stdout",
     "output_type": "stream",
     "text": [
      "\n",
      "\n",
      "Сейчас на вечеринке 5 человек: ['Петя', 'Ваня', 'Саша', 'Лиза', 'Катя']\n",
      "\n",
      "Привет, Алекс!\n",
      "\n",
      "\n",
      "Сейчас на вечеринке 6 человек: ['Петя', 'Ваня', 'Саша', 'Лиза', 'Катя', 'Алекс']\n",
      "\n",
      "Прости, Гоша, но мест нет.\n",
      "\n",
      "\n",
      "Сейчас на вечеринке 6 человек: ['Петя', 'Ваня', 'Саша', 'Лиза', 'Катя', 'Алекс']\n",
      "\n",
      "Пока, Ваня!\n",
      "\n",
      "\n",
      "Сейчас на вечеринке 5 человек: ['Петя', 'Саша', 'Лиза', 'Катя', 'Алекс']\n",
      "\n",
      "Вечеринка закончилась, все легли спать.\n"
     ]
    }
   ],
   "source": [
    "SEATS_COUNT = 6\n",
    "guests = ['Петя', 'Ваня', 'Саша', 'Лиза', 'Катя']\n",
    "while True:\n",
    "    print(f'\\n\\nСейчас на вечеринке {len(guests)} человек: {guests}')\n",
    "    answer = input('\\nГость пришёл или ушёл? ').lower()\n",
    "    if answer == 'пора спать':\n",
    "        print('\\nВечеринка закончилась, все легли спать.')\n",
    "        break\n",
    "    name = input('\\nИмя гостя: ')\n",
    "    if answer in ['пришёл', 'пришел']:\n",
    "        if len(guests) == SEATS_COUNT:\n",
    "            print(f'\\nПрости, {name}, но мест нет.')\n",
    "        else:\n",
    "            print(f'\\nПривет, {name}!')\n",
    "            guests.append(name)\n",
    "    else:\n",
    "        print(f'\\nПока, {name}!')\n",
    "        guests.remove(name)"
   ]
  },
  {
   "cell_type": "markdown",
   "metadata": {},
   "source": [
    "# Задача 5"
   ]
  },
  {
   "cell_type": "code",
   "execution_count": 5,
   "metadata": {},
   "outputs": [
    {
     "name": "stdout",
     "output_type": "stream",
     "text": [
      "Общее время звучания песен 14.93\n"
     ]
    }
   ],
   "source": [
    "violator_songs = [\n",
    "    ['World in My Eyes', 4.86],\n",
    "    ['Sweetest Perfection', 4.43],\n",
    "    ['Personal Jesus', 4.56],\n",
    "    ['Halo', 4.9],\n",
    "    ['Waiting for the Night', 6.07],\n",
    "    ['Enjoy the Silence', 4.20],\n",
    "    ['Policy of Truth', 4.76],\n",
    "    ['Blue Dress', 4.29],\n",
    "    ['Clean', 5.83]\n",
    "]\n",
    "\n",
    "l = []\n",
    "n = int(input(\"Сколько песен выбрать?\"))\n",
    "for i in range(n):\n",
    "    t = ''.join(['Название ', str(i+1), ' песни'])\n",
    "    l.append(input(t))\n",
    "sum = 0\n",
    "for i in violator_songs:\n",
    "    if i[0] in l:\n",
    "        sum += i[1]\n",
    "print('Общее время звучания песен', float('{:.4}'.format(sum)))"
   ]
  },
  {
   "cell_type": "markdown",
   "metadata": {},
   "source": [
    "# Задача 6"
   ]
  },
  {
   "cell_type": "code",
   "execution_count": 6,
   "metadata": {},
   "outputs": [
    {
     "name": "stdout",
     "output_type": "stream",
     "text": [
      "\n",
      "Первый список: [1, 2, 3]\n",
      "\n",
      "Второй список: [2, 4, 5, 3, 3, 2, 1]\n",
      "\n",
      "Новый список с уникальными элементами: [4, 5, 3, 2, 1]\n"
     ]
    }
   ],
   "source": [
    "first_list = []\n",
    "second_list = []\n",
    "\n",
    "for i in range(1, 4):\n",
    "    num = int(input(f\"Введите {i}-е число для первого списка:\"))\n",
    "    first_list.append(num)\n",
    "\n",
    "for i in range(1, 8):\n",
    "    num = int(input(f\"Введите {i}-е число для первого списка:\"))\n",
    "    second_list.append(num)\n",
    "\n",
    "print(f\"\\nПервый список: {first_list}\")\n",
    "print(f\"\\nВторой список: {second_list}\")\n",
    "\n",
    "first_list.extend(second_list)\n",
    "\n",
    "for _ in range(len(first_list)):\n",
    "    for num in first_list:\n",
    "        if first_list.count(num) > 1:\n",
    "            first_list.remove(num)\n",
    "\n",
    "print(f\"\\nНовый список с уникальными элементами: {first_list}\")"
   ]
  },
  {
   "cell_type": "markdown",
   "metadata": {},
   "source": [
    "# Задача 7"
   ]
  },
  {
   "cell_type": "code",
   "execution_count": 8,
   "metadata": {},
   "outputs": [
    {
     "name": "stdout",
     "output_type": "stream",
     "text": [
      "\n",
      "Размер  1  пары: \n",
      "Размер  2  пары: \n",
      "Размер  3  пары: \n",
      "Размер  4  пары: \n",
      "Размер ноги  1  человека: \n",
      "Размер ноги  2  человека: \n",
      "Размер ноги  3  человека: \n",
      "Наибольшее кол-во людей, которые могут взять ролики:  2\n"
     ]
    }
   ],
   "source": [
    "shoes_size = []\n",
    "feet_size = []\n",
    "suitable_list = []\n",
    "\n",
    "N = int(input(\"Кол-во коньков: \"))\n",
    "for number in range(N):\n",
    "    print(\"\\nРазмер \", number + 1, \" пары: \", end=\"\")\n",
    "    size = int(input())\n",
    "    shoes_size.append(size)\n",
    "\n",
    "K = int(input(\"\\nКол-во людей: \"))\n",
    "for number in range(K):\n",
    "    print(\"\\nРазмер ноги \", number + 1, \" человека: \", end=\"\")\n",
    "    size = int(input())\n",
    "    feet_size.append(size)\n",
    "\n",
    "for index_shoes in range(N):\n",
    "    for index_feet in range(K):\n",
    "        if shoes_size[index_shoes] == feet_size[index_feet]:\n",
    "            suitable_list.append(feet_size[index_feet])\n",
    "\n",
    "unique_list = list(set(suitable_list))\n",
    "print(\"\\nНаибольшее кол-во людей, которые могут взять ролики: \", len(unique_list))"
   ]
  },
  {
   "cell_type": "markdown",
   "metadata": {},
   "source": [
    "# Задача 8"
   ]
  },
  {
   "cell_type": "code",
   "execution_count": 9,
   "metadata": {},
   "outputs": [
    {
     "name": "stdout",
     "output_type": "stream",
     "text": [
      "Значит выбывает каждый 7-й человек\n",
      "Текущий круг людей: [1, 2, 3, 4, 5]\n",
      "Начало счета с номера 1\n",
      "Выбывает человек под номером 2\n",
      "Текущий круг людей: [1, 3, 4, 5]\n",
      "Начало счета с номера 3\n",
      "Выбывает человек под номером 5\n",
      "Текущий круг людей: [1, 3, 4]\n",
      "Начало счета с номера 1\n",
      "Выбывает человек под номером 1\n",
      "Текущий круг людей: [3, 4]\n",
      "Начало счета с номера 3\n",
      "Выбывает человек под номером 3\n",
      "Остался человек под номером 4\n"
     ]
    }
   ],
   "source": [
    "people = int(input('Кол-во человек: ')) \n",
    "number = int(input('Какое число в считалке? ')) \n",
    "print('Значит выбывает каждый {}-й человек'.format(number))\n",
    "a = [i for i in range(1, people+1)]\n",
    "start = 0\n",
    "while len(a) > 1:\n",
    "    print('Текущий круг людей:', a)\n",
    "    print('Начало счета с номера' , a[start])\n",
    "    delete = (start + number - 1) % len(a)\n",
    "    if a[delete] == a[-1]:\n",
    "        start = 0\n",
    "    else:\n",
    "        start = delete\n",
    "    print('Выбывает человек под номером', a.pop(delete))\n",
    "print('Остался человек под номером', a[0])"
   ]
  },
  {
   "cell_type": "markdown",
   "metadata": {},
   "source": [
    "# Задача 9"
   ]
  },
  {
   "cell_type": "code",
   "execution_count": 12,
   "metadata": {},
   "outputs": [
    {
     "name": "stdout",
     "output_type": "stream",
     "text": [
      "\n",
      "1-я расписка\n",
      "\n",
      "Баланс друзей:\n",
      "1: 100\n",
      "2: 0\n",
      "3: -100\n"
     ]
    }
   ],
   "source": [
    "friends = int(input(\"Количество друзей: \"))\n",
    "receipts = int(input(\"Долговых расписок: \"))\n",
    "\n",
    "friends_balance = []\n",
    "\n",
    "for _ in range(friends):\n",
    "    friends_balance.append(0)\n",
    "\n",
    "for i in range(1, receipts+1):\n",
    "    print(f\"\\n{i}-я расписка\")\n",
    "    to_who = int(input(\"Кому: \"))\n",
    "    from_who = int(input(\"От кого: \"))\n",
    "    how_much = int(input(\"Сколько: \"))\n",
    "    friends_balance[to_who-1] -= how_much\n",
    "    friends_balance[from_who-1] += how_much\n",
    "\n",
    "print(\"\\nБаланс друзей:\")\n",
    "\n",
    "for cnt, friend in enumerate(friends_balance, 1):\n",
    "    print(f\"{cnt}: {friend}\")\n"
   ]
  },
  {
   "cell_type": "markdown",
   "metadata": {},
   "source": [
    "# Задача 10"
   ]
  },
  {
   "cell_type": "code",
   "execution_count": 1,
   "metadata": {},
   "outputs": [
    {
     "name": "stdout",
     "output_type": "stream",
     "text": [
      "\n",
      "Последовательность: [1, 2, 1, 2, 2]\n",
      "\n",
      "Нужно приписать чисел: 3\n",
      "\n",
      "Сами числа: [1, 2, 1]\n"
     ]
    }
   ],
   "source": [
    "def is_palindrom(arr):\n",
    "    return arr == arr[::-1]\n",
    " \n",
    "def add_numbers(arr):\n",
    "    for i in range(len(arr)):\n",
    "        if is_palindrom(arr[i:]):\n",
    "            return arr[:i][::-1]\n",
    " \n",
    "n = int(input('Количество чисел: '))\n",
    "arr = []\n",
    "for i in range(n):\n",
    "    arr.append(int(input('\\nЧисло: ')))\n",
    "print(f'\\nПоследовательность: {arr}')\n",
    "add_arr = add_numbers(arr)\n",
    "print(f'\\nНужно приписать чисел: {len(add_arr)}')\n",
    "if len(add_arr):\n",
    "    print(f'\\nСами числа: {add_arr}')"
   ]
  }
 ],
 "metadata": {
  "kernelspec": {
   "display_name": "Python 3",
   "language": "python",
   "name": "python3"
  },
  "language_info": {
   "codemirror_mode": {
    "name": "ipython",
    "version": 3
   },
   "file_extension": ".py",
   "mimetype": "text/x-python",
   "name": "python",
   "nbconvert_exporter": "python",
   "pygments_lexer": "ipython3",
   "version": "3.10.1"
  }
 },
 "nbformat": 4,
 "nbformat_minor": 2
}
