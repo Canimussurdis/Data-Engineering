{
 "cells": [
  {
   "cell_type": "code",
   "execution_count": 21,
   "metadata": {},
   "outputs": [],
   "source": [
    "import math\n",
    "import numpy as np \n",
    "from math import sqrt, log10\n",
    "from functools import reduce"
   ]
  },
  {
   "cell_type": "code",
   "execution_count": 42,
   "metadata": {},
   "outputs": [],
   "source": [
    "from pprint import pprint"
   ]
  },
  {
   "cell_type": "markdown",
   "metadata": {},
   "source": [
    "## Задача 1. Сумма первых n положительных чисел\n"
   ]
  },
  {
   "cell_type": "code",
   "execution_count": 6,
   "metadata": {},
   "outputs": [
    {
     "name": "stdout",
     "output_type": "stream",
     "text": [
      "6\n"
     ]
    }
   ],
   "source": [
    "n = int(input(\"Введите число \"))\n",
    "if n < 0:\n",
    "    while n < 0:\n",
    "       n = int(input(\"Нужно ввести положительное число, попробуй еще раз \")) \n",
    "print( int((n * (n + 1)) / 2))"
   ]
  },
  {
   "cell_type": "markdown",
   "metadata": {},
   "source": [
    "## Задача 2. Калькулятор"
   ]
  },
  {
   "cell_type": "code",
   "execution_count": 49,
   "metadata": {},
   "outputs": [
    {
     "name": "stdout",
     "output_type": "stream",
     "text": [
      "\n",
      "Арифметичские операции\n",
      "Сумма 8\n",
      "Разность -2\n",
      "Произведение 15\n",
      "Деление 1 2\n",
      "Целочисленное деление 0\n",
      "остаток от деления  3\n",
      "Возведение числа 3 в степень 5: 243\n",
      "Возведение числа 5 в степень 3: 125\n",
      "Логарифм числа 3: 0.48\n",
      "Логарифм числа 5: 0.7\n",
      "\n",
      "Сравнения\n",
      "3 меньше 5\n",
      "3 меньше или равно 5\n",
      "5 больше 3\n",
      "5 больше или равно 3\n",
      "3 не равно 5\n",
      "3 не равно 5\n"
     ]
    }
   ],
   "source": [
    "a, b = map(int, input(\"Введите два числа: \"). split())\n",
    "print(\"\\nАрифметичские операции\")\n",
    "print(\"Сумма\", a+b)\n",
    "print(\"Разность\", a-b)\n",
    "print(\"Произведение\", a*b)\n",
    "print(\"Деление\", round(a/b), 2)\n",
    "print(\"Целочисленное деление\", a//b)\n",
    "print(\"остаток от деления \", a%b)\n",
    "print(\"Возведение числа {} в степень {}:\".format(a, b), a**b)\n",
    "print(\"Возведение числа {} в степень {}:\".format(b, a), b**a)\n",
    "print(\"Логарифм числа {}:\".format(a), round(math.log10(a), 2))\n",
    "print(\"Логарифм числа {}:\".format(b), round(math.log10(b), 2))\n",
    "print(\"\\nСравнения\")\n",
    "print(\"{} меньше {}\".format(a, b) if a<b else \"{} меньше {}\".format(b, a))\n",
    "print(\"{} меньше или равно {}\".format(a, b) if a<=b else \"{} меньше или равно {}\".format(b, a))\n",
    "print(\"{} больше {}\".format(a, b) if a>b else \"{} больше {}\".format(b, a))\n",
    "print(\"{} больше или равно {}\".format(a, b) if a>=b else \"{} больше или равно {}\".format(b, a))\n",
    "print(\"{} не равно {}\".format(a, b) if a!=b else \"{} равно {}\".format(a, b))\n",
    "print(\"{} равно {}\".format(a, b) if a==b else \"{} не равно {}\".format(a, b))\n"
   ]
  },
  {
   "cell_type": "markdown",
   "metadata": {},
   "source": [
    "## Задача 3"
   ]
  },
  {
   "cell_type": "code",
   "execution_count": 3,
   "metadata": {},
   "outputs": [
    {
     "name": "stdout",
     "output_type": "stream",
     "text": [
      "2\n"
     ]
    }
   ],
   "source": [
    "x, y, z  = map(int, input(\"Введите три числа: \"). split())\n",
    "\n",
    "nomi = np.cbrt((x**5 + 7) / (abs(-x) * y))\n",
    "denomi = 7 - z%y\n",
    "\n",
    "if denomi != 0:\n",
    "    res = round((nomi / denomi))\n",
    "    print(res)\n",
    "else: \n",
    "    print(\"Знаменатель равен нулю. Попробуй еще раз\")\n"
   ]
  },
  {
   "cell_type": "markdown",
   "metadata": {},
   "source": [
    "## Задача 4"
   ]
  },
  {
   "cell_type": "code",
   "execution_count": 12,
   "metadata": {},
   "outputs": [
    {
     "name": "stdout",
     "output_type": "stream",
     "text": [
      "Общее сопротивление цепи 15.5\n"
     ]
    }
   ],
   "source": [
    "a, b = map(float, input(\"Введите сопротивление проводников: \"). split()) \n",
    "print(\"Общее сопротивление цепи\", round((a+b), 1))"
   ]
  },
  {
   "cell_type": "markdown",
   "metadata": {},
   "source": [
    "## Задача 5"
   ]
  },
  {
   "cell_type": "code",
   "execution_count": 40,
   "metadata": {},
   "outputs": [
    {
     "name": "stdout",
     "output_type": "stream",
     "text": [
      "Решение попадает в интервал\n"
     ]
    }
   ],
   "source": [
    "a, b = map(int, input(\"Введите коэффициенты уравнения: \"). split()) # ax + b = 0\n",
    "\n",
    "if a == 0:\n",
    "    while a == 0:\n",
    "        a, b = map(int, input(\"Введите коэффициенты уравнения еще раз, делить на ноль нельзя: \"). split())\n",
    "\n",
    "m, n =   map(int, input(\"Введите границы интервала: \"). split())\n",
    "\n",
    "x = -b/a\n",
    "print(\"Решение попадает в интервал\" if n>=x>=m else \"Решение не попадает в интервал\")"
   ]
  },
  {
   "cell_type": "markdown",
   "metadata": {},
   "source": [
    "## Задача 6. Поездка по кругу"
   ]
  },
  {
   "cell_type": "code",
   "execution_count": 30,
   "metadata": {},
   "outputs": [
    {
     "name": "stdout",
     "output_type": "stream",
     "text": [
      "Номер километра: 0\n"
     ]
    }
   ],
   "source": [
    "v, t = map(int, input(\"Введите скорость и количество часов: \"). split())\n",
    "s = v * t\n",
    "res = (s % 123 + 123) % 123 \n",
    "print(\"Номер километра:\", res)\n"
   ]
  },
  {
   "cell_type": "markdown",
   "metadata": {},
   "source": [
    "## Задача 7. Сумма и произведение цифр в числе"
   ]
  },
  {
   "cell_type": "code",
   "execution_count": 20,
   "metadata": {},
   "outputs": [
    {
     "name": "stdout",
     "output_type": "stream",
     "text": [
      "Сумма цифр числа 24: 6\n",
      "Произведение цифр числа 24: 8\n",
      "Сумма цифр числа 158: 14\n",
      "Произведение цифр числа 158: 40\n"
     ]
    }
   ],
   "source": [
    "x, y = map(int, input(\"Введите двухзначное и трехзначное числа: \"). split())\n",
    "\n",
    "arr = [x, y]\n",
    "\n",
    "for i in arr:\n",
    "    number = i\n",
    "    sum = 0\n",
    "    mult = 1\n",
    "    while i > 0:\n",
    "        digit = i % 10\n",
    "        sum += digit\n",
    "        mult *= digit\n",
    "        i //= 10\n",
    "    print(\"Сумма цифр числа {}:\".format(number), sum)\n",
    "    print(\"Произведение цифр числа {}:\".format(number), mult)"
   ]
  },
  {
   "cell_type": "markdown",
   "metadata": {},
   "source": [
    "## Задача 8. Сортировка трех чисел"
   ]
  },
  {
   "cell_type": "code",
   "execution_count": 17,
   "metadata": {},
   "outputs": [
    {
     "name": "stdout",
     "output_type": "stream",
     "text": [
      "Отсортированный список: 34 75 642\n"
     ]
    }
   ],
   "source": [
    "x, y, z  = map(int, input(\"Введите три числа: \"). split())\n",
    "arr = [x, y, z]\n",
    "print(\"Отсортированный список:\", min(arr), (x+y+z)-min(arr)-max(arr), max(arr))"
   ]
  },
  {
   "cell_type": "markdown",
   "metadata": {},
   "source": [
    "# Задача 9. Поменять местами: не всё так просто! "
   ]
  },
  {
   "cell_type": "code",
   "execution_count": 13,
   "metadata": {},
   "outputs": [
    {
     "name": "stdout",
     "output_type": "stream",
     "text": [
      "4 7\n",
      "7 4\n"
     ]
    }
   ],
   "source": [
    "a = int(input('Введите первое число: '))\n",
    "b = int(input('Введите второе число: '))\n",
    "print(a, b)\n",
    "a = a + b \n",
    "b = a - b \n",
    "a = a - b\n",
    "print(a, b)\n"
   ]
  },
  {
   "cell_type": "markdown",
   "metadata": {},
   "source": [
    "# Задача 10. "
   ]
  },
  {
   "cell_type": "code",
   "execution_count": 11,
   "metadata": {},
   "outputs": [
    {
     "name": "stdout",
     "output_type": "stream",
     "text": [
      "Анапа - чемпион!\n",
      "-----\n",
      "True\n",
      "3\n"
     ]
    }
   ],
   "source": [
    "club = str(input(\"Введите название футбольной команды: \"))\n",
    "print('{} - чемпион!'.format(club.capitalize()))\n",
    "print('-' * len(club))\n",
    "club = club.lower()\n",
    "print('True' if 'п' in club else 'False')\n",
    "print(club.count('а'))"
   ]
  },
  {
   "cell_type": "markdown",
   "metadata": {},
   "source": [
    "# Задача 11. "
   ]
  },
  {
   "cell_type": "code",
   "execution_count": 4,
   "metadata": {},
   "outputs": [
    {
     "name": "stdout",
     "output_type": "stream",
     "text": [
      "Государство - Россия, столица - Москва\n"
     ]
    }
   ],
   "source": [
    "country, capital  = map(str, input(\"Введите страну и ее столицу: \"). split())\n",
    "print('Государство - {}, столица - {}'.format(country.capitalize(), capital.capitalize()))"
   ]
  },
  {
   "cell_type": "markdown",
   "metadata": {},
   "source": [
    "# Задача 12"
   ]
  },
  {
   "cell_type": "code",
   "execution_count": 12,
   "metadata": {},
   "outputs": [
    {
     "name": "stdout",
     "output_type": "stream",
     "text": [
      "объект ориентир тир кот рента\n"
     ]
    }
   ],
   "source": [
    "word = 'объектно-ориентированный'\n",
    "print(word[:6], word[9:17], word[14:17], word[4:15:5], word[10]+word[12:15]+word[19])"
   ]
  },
  {
   "cell_type": "markdown",
   "metadata": {},
   "source": [
    "# Задача 13"
   ]
  },
  {
   "cell_type": "code",
   "execution_count": 33,
   "metadata": {},
   "outputs": [
    {
     "name": "stdout",
     "output_type": "stream",
     "text": [
      "Исходные списки:\n",
      "1-й: [4.5, 3.4, 100, 8.7, 100, 1.3]\n",
      "2-й: [14.5, 200, 3.4, 200, 8.7, 11.3]\n",
      "\n",
      "После удалений:\n",
      "1-й: [3.4, 8.7, 100, 1.3]\n",
      "2-й: [3.4, 200, 8.7, 11.3]\n",
      "\n",
      "Уникальные элементы:\n",
      "1-й: {1.3, 100}\n",
      "2-й: {200, 11.3}\n",
      "общие: {8.7, 3.4}\n",
      "\n",
      "Итоговые:\n",
      "3-й: [3.4, 8.7, 100, 1.3, 3.4, 200, 8.7, 11.3]\n",
      "Сортировка (возр.):: [1.3, 3.4, 3.4, 8.7, 8.7, 11.3, 100, 200]\n",
      "Сортировка (убыв.): [200, 100, 11.3, 8.7, 8.7, 3.4, 3.4, 1.3]\n",
      "Ср. арифм. = 28.88, ср. геометр. = 12.64\n",
      "Макс. и мин.: 200 1.3\n"
     ]
    }
   ],
   "source": [
    "# Создать 2 пустых списка\n",
    "a = list()\n",
    "b = list()\n",
    "\n",
    "# Добавить 2 вещественных числа (4.5 и 3.4) в список 'a' с помощью append\n",
    "a.append(4.5)\n",
    "a.append(3.4)\n",
    "# Добавить 2 вещественных числа (8.7, 1.3) в список 'a' с помощью extend\n",
    "l = [8.7, 1.3]\n",
    "a.extend(l)\n",
    "\n",
    "# Добавить 2 вещественных числа (14.5, 3.4) в список 'b' с помощью append\n",
    "b.append(14.5)\n",
    "b.append(3.4)\n",
    "\n",
    "# Добавить 2 вещественных числа (8.7, 11.3) в список 'b'с помощью extend\n",
    "l = [8.7, 11.3]\n",
    "b.extend(l)\n",
    "\n",
    "# Вставить целое число 100 на 2-е и 4-е место списка 'a'\n",
    "a.insert(2, 100)\n",
    "a.insert(4, 100)\n",
    "\n",
    "# Вставить целое число 200 на 1-е и 3-е место списка 'b'\n",
    "b.insert(1, 200)\n",
    "b.insert(3, 200)\n",
    "\n",
    "# Вывести списки на экран\n",
    "print(\"Исходные списки:\")\n",
    "print('1-й:', a)\n",
    "print('2-й:', b)\n",
    "\n",
    "# Удалить первые элементы из списков 'a' и 'b'\n",
    "del a[0]\n",
    "del b[0]\n",
    "\n",
    "# Удалить элемент 100 из списка 'a'\n",
    "a.remove(100)\n",
    "# Удалить элемент 200 из списка 'b'\n",
    "b.remove(200)\n",
    "\n",
    "# Вывести списки на экран\n",
    "print(\"\\nПосле удалений:\")\n",
    "print('1-й:', a)\n",
    "print('2-й:', b)\n",
    "\n",
    "# Создать множества из списков 'a' и 'b', а также их пересечение\n",
    "sa = set(a)\n",
    "sb = set(b)\n",
    "sa_and_sb = sa.intersection(sb)\n",
    "# Вывести экран уникальные элементы каждого списка и общие\n",
    "print(\"\\nУникальные элементы:\" )\n",
    "print('1-й:', sa.difference(sb))\n",
    "print('2-й:', sb.difference(sa))\n",
    "print(\"общие:\", sa_and_sb)\n",
    "\n",
    "# Соединить списки 'a' и 'b'\n",
    "c = a + b\n",
    "\n",
    "# Отсортировать список 'c' по возрастанию и убыванию\n",
    "c_asc = sorted(c)\n",
    "c_desc = sorted(c, reverse=True)\n",
    "\n",
    "# Среднее арифметическое элементов списка 'c', расположенных на четных местах\n",
    "sr_ar = round((sum(c[::2]) / len(c[::2])), 2)\n",
    "# Среднее геометрическое элементов списка 'c', расположенных на нечетных местах\n",
    "sr_geom = round(reduce(lambda x, y: x * y, c[1::2]) ** (1.0 / len(c[1::2])), 2)\n",
    "\n",
    "# Максимальный и минимальный элементы\n",
    "c_max = max(c)\n",
    "c_min = min(c)\n",
    "\n",
    "# Вывести результаты на экран\n",
    "print(\"\\nИтоговые:\")\n",
    "print(\"3-й:\", c)\n",
    "print(\"Сортировка (возр.)::\", c_asc)\n",
    "print(\"Сортировка (убыв.):\", c_desc)\n",
    "print(\"Ср. арифм. = {}, ср. геометр. = {}\".format(sr_ar, sr_geom))\n",
    "print(\"Макс. и мин.: {} {}\".format(c_max, c_min))\n"
   ]
  },
  {
   "cell_type": "markdown",
   "metadata": {},
   "source": [
    "# Задача 14"
   ]
  },
  {
   "cell_type": "code",
   "execution_count": 74,
   "metadata": {},
   "outputs": [
    {
     "name": "stdout",
     "output_type": "stream",
     "text": [
      "{'фио': 'Кравец Полина Сергеевна', 'дата_рождения': '01/08/2002', 'место_рождения': 'Архангельск'}\n",
      "Данные:\n",
      "{'ЕГЭ': {'Информатика': 92, 'Математика': 86, 'Русский язык': 91},\n",
      " 'вузы': {'МГТУ им. Баумана': 265, 'МГУ': 298, 'МИРЭА': 240},\n",
      " 'дата_рождения': '01/08/2002',\n",
      " 'животные': ('кошка Мурка', 'белка Джек'),\n",
      " 'место_рождения': 'Архангельск',\n",
      " 'фио': 'Кравец Полина Сергеевна',\n",
      " 'хобби': ['чтение', 'туризм', 'рисование', 'винил', 'программирование']}\n",
      "Предметы: ['Информатика', 'Математика', 'Русский язык']\n",
      "Вузы: ['МГТУ им. Баумана', 'МГУ', 'МИРЭА']\n",
      "\n",
      "Ответы на вопросы:\n",
      "* мое имя начинается на гласную букву: False\n",
      "* родился летом или зимой: True\n",
      "* у меня 5 хобби, первое \"чтение\"\n",
      "* после окончания школы сдавал 3 экз.\n",
      "* сумма баллов = 269\n",
      "* макс. балл = 92\n",
      "* кол-во вузов в которые прохожу: 2\n"
     ]
    }
   ],
   "source": [
    "# 1. Создание словаря\n",
    "# Создать пустой словарь\n",
    "info = dict()\n",
    "\n",
    "# Добавить значения для ключей \"фио\", \"дата_рождения\", \"место_рождения\"\n",
    "info[\"фио\"] = 'Кравец Полина Сергеевна'\n",
    "info[\"дата_рождения\"] = '01/08/2002'\n",
    "info[\"место_рождения\"] = 'Архангельск'\n",
    "\n",
    "# Напечатать словарь\n",
    "print(info)\n",
    "\n",
    "# Создать ключ \"хобби\" со значением = список из строк\n",
    "l = ['чтение', 'туризм', 'рисование', 'винил']\n",
    "info['хобби'] = l\n",
    "info['хобби'].append('программирование')\n",
    "\n",
    "# Создать ключ \"животные\" со значением = кортеж из строк -\n",
    "# имен домашних животных (например \"кошка Мурка\" и т.д.)\n",
    "tupl = ('кошка Мурка', 'белка Джек')\n",
    "info['животные'] = tupl\n",
    "\n",
    "# Создать ключ \"ЕГЭ\" и поместить в него пустой словарь\n",
    "ex = dict()\n",
    "info['ЕГЭ'] = ex\n",
    "\n",
    "# В словарь info[\"ЕГЭ\"] добавить информацию о сданных экзаменах,\n",
    "# где ключ - наименование предмета, а значение - количество баллов\n",
    "info['ЕГЭ'] = {'Математика': 86, 'Информатика': 92, 'Русский язык': 91}\n",
    "\n",
    "# Добавить экзамен, который не был сдан, после чего удалить его\n",
    "info['ЕГЭ']['Химия'] = 100\n",
    "info['ЕГЭ'].pop('Химия')\n",
    "\n",
    "# Создать ключ \"вузы\" и поместить в него пустой словарь\n",
    "uni = dict()\n",
    "info['вузы'] = uni\n",
    "\n",
    "# В словарь info[\"вузы\"] добавить информацию о вузах,\n",
    "info['вузы'] = {'МИРЭА': 240, 'МГУ': 298, 'МГТУ им. Баумана': 265}\n",
    "\n",
    "# 2. Вывод на экран\n",
    "print(\"Данные:\")\n",
    "# Получившийся словарь\n",
    "pprint(info)\n",
    "\n",
    "# Список экзаменов ЕГЭ в алфавитном порядке\n",
    "# (используйте метод ``keys()``, преобразовав результат в кортеж)\n",
    "exams = sorted(info['ЕГЭ'].keys())\n",
    "print(\"Предметы:\", exams)\n",
    "# Список вузов в алфавитном порядке\n",
    "uni = sorted(info['вузы'].keys())\n",
    "print(\"Вузы:\", uni)\n",
    "\n",
    "# 3. Ответы на вопросы\n",
    "print(\"\\nОтветы на вопросы:\")\n",
    "\n",
    "# Выделить имя из info[\"фио\"]\n",
    "name = info.get('фио')\n",
    "# Начинается на гласную? (True/False)\n",
    "letters = 'аоэиеяюё'\n",
    "starts_with_vowel = 'True' if name[0].lower() in letters else 'False'\n",
    "print(\"* мое имя начинается на гласную букву:\", starts_with_vowel)\n",
    "\n",
    "# Выделить месяц из info[\"дата_рождения\"]\n",
    "month = info.get('дата_рождения')[3:5]\n",
    "# Родился зимой или летом? (True/False)\n",
    "months = ['12', '01', '02', '06', '07', '08']\n",
    "born_in_winter_or_summer = 'True' if month in months else 'False'\n",
    "print(\"* родился летом или зимой:\", born_in_winter_or_summer)\n",
    "\n",
    "# Количество хобби и первое из них\n",
    "hobbies_count = len(info.get('хобби'))\n",
    "print(\"* у меня {} хобби, первое \\\"{}\\\"\".format(hobbies_count, info.get('хобби')[0]))\n",
    "\n",
    "# Количество сданных экзаменов\n",
    "print(\"* после окончания школы сдавал {} экз.\".format(len(info.get('ЕГЭ'))))\n",
    "\n",
    "\n",
    "# Сумма баллов по экзаменам\n",
    "sum_mark = sum(info['ЕГЭ'].values())\n",
    "print(\"* сумма баллов = {}\".format(sum_mark))\n",
    "\n",
    "# Максимальный балл среди сданных\n",
    "max_mark = max(info['ЕГЭ'].values())\n",
    "print(\"* макс. балл = {}\".format(max_mark))\n",
    "\n",
    "# Количество вузов, в которые Вы проходите по баллам\n",
    "vuz_count = 0\n",
    "for v in info['вузы'].values():\n",
    "    if sum_mark > v:\n",
    "        vuz_count += 1\n",
    "print(\"* кол-во вузов в которые прохожу: {}\".format(vuz_count))\n"
   ]
  }
 ],
 "metadata": {
  "kernelspec": {
   "display_name": "Python 3",
   "language": "python",
   "name": "python3"
  },
  "language_info": {
   "codemirror_mode": {
    "name": "ipython",
    "version": 3
   },
   "file_extension": ".py",
   "mimetype": "text/x-python",
   "name": "python",
   "nbconvert_exporter": "python",
   "pygments_lexer": "ipython3",
   "version": "3.10.1"
  }
 },
 "nbformat": 4,
 "nbformat_minor": 2
}
